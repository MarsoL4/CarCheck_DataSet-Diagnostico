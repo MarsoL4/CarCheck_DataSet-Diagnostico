{
  "cells": [
    {
      "cell_type": "markdown",
      "metadata": {
        "id": "P4v3cDLD-60I"
      },
      "source": [
        "# **Estrutura do DataSet**"
      ]
    },
    {
      "cell_type": "markdown",
      "metadata": {
        "id": "DTux5sUZ_oIH"
      },
      "source": [
        "O dataset será elaborado com foco em diagnósticos automotivos, com o objetivo de treinar um chatbot para ajudar os usuários a identificar problemas em seus veículos.\n",
        "\n",
        "O dataset conterá as seguintes colunas:\n",
        "\n",
        "- ID: Identificador único do problema (número inteiro).\n",
        "\n",
        "- Descrição do Problema: Texto que descreve o problema conforme relatado pelo usuário.\n",
        "\n",
        "- Categoria: Classificação do problema em categorias gerais (e.g., motor, freios, suspensão, elétrica, etc.).\n",
        "\n",
        "- Possível Causa: A causa mais provável do problema (e.g., bateria descarregada, cabo solto, etc.).\n",
        "\n",
        "- Gravidade: Classificação do problema em termos de urgência (baixo, médio, alto).\n",
        "\n",
        "- Custo Estimado de Reparo (R$): Valor estimado para o reparo do problema (em\n",
        "reais).\n",
        "\n",
        "- Tempo Estimado de Reparo (horas): Tempo médio necessário para resolver o problema.\n",
        "\n",
        "- Região do Veículo: Local onde o problema foi identificado no carro (e.g., parte frontal, traseira, lateral direita, etc.)."
      ]
    },
    {
      "cell_type": "markdown",
      "metadata": {
        "id": "SREHrWgCAMFJ"
      },
      "source": [
        "# **Origem e Explicação dos dados**"
      ]
    },
    {
      "cell_type": "markdown",
      "metadata": {
        "id": "eTVs6IMLAyWl"
      },
      "source": [
        "Os dados são simulados com base em informações comuns sobre problemas automotivos, como encontrados em oficinas mecânicas e serviços de assistência técnica. Eles foram organizados para cobrir uma ampla variedade de problemas mecânicos, de diferentes partes do veículo, e com diferentes níveis de gravidade e custo.\n",
        "\n",
        "- Quantidade: O dataset tem 100 exemplos de problemas mecânicos. Cada exemplo representa um relato único de um cliente sobre um possível problema no carro.\n",
        "\n",
        "- Qualidade: Como é um dataset simulado, a precisão dos dados é limitada. No entanto, as informações foram geradas para serem representativas e úteis para o contexto de treinamento do chatbot."
      ]
    },
    {
      "cell_type": "markdown",
      "metadata": {
        "id": "yzAoKjwDA7jW"
      },
      "source": [
        "# **Objetivo do Dataset**"
      ]
    },
    {
      "cell_type": "markdown",
      "metadata": {
        "id": "-gLy_VYlBYGd"
      },
      "source": [
        "Este dataset será utilizado para treinar o chatbot da nossa solução que atenderá os clientes na nossa plataforma e terá como objetivo ajudar os clientes a diagnosticar problemas em seus veículos com base em descrições de falhas mecânicas que os usuários vão fornecer durante as interações.\n",
        "\n",
        "O chatbot poderá sugerir diagnósticos, classificar a gravidade do problema e estimar custos e tempos de reparo, facilitando o encaminhamento para uma oficina mecânica ou assistência técnica."
      ]
    },
    {
      "cell_type": "markdown",
      "metadata": {
        "id": "E0f9ijsbB6i6"
      },
      "source": [
        "# **Gerando o DataSet**"
      ]
    },
    {
      "cell_type": "code",
      "execution_count": null,
      "metadata": {
        "colab": {
          "base_uri": "https://localhost:8080/"
        },
        "id": "oppvip5ECKLt",
        "outputId": "f3395a89-943b-4e50-d502-4c7915c6693b"
      },
      "outputs": [],
      "source": [
        "import pandas as pd\n",
        "import random\n",
        "\n",
        "# Definindo listas com valores simulados para o dataset\n",
        "categorias = ['Motor', 'Freios', 'Suspensão', 'Elétrica', 'Transmissão', 'Exaustão', 'Pneus', 'Sistema de Arrefecimento']\n",
        "causas = {\n",
        "    'Motor': ['Problema na bomba de óleo', 'Correia dentada rompida', 'Falha na injeção eletrônica', 'Sobre-aquecimento', 'Desgaste de anéis'],\n",
        "    'Freios': ['Desgaste de pastilhas', 'Fusível queimado', 'Problema no cilindro mestre', 'Disco de freio empenado', 'Mangueira do freio rachada'],\n",
        "    'Suspensão': ['Amortecedor danificado', 'Mola quebrada', 'Problema na bucha da suspensão', 'Barulho ao passar em buracos', 'Desgaste das buchas'],\n",
        "    'Elétrica': ['Bateria descarregada', 'Alternador com defeito', 'Fusível queimado', 'Problema no módulo de controle', 'Fiação solta'],\n",
        "    'Transmissão': ['Problema na embreagem', 'Desgaste no sincronizador', 'Vazamento de fluido', 'Dificuldade nas trocas de marcha', 'Ruído ao trocar marcha'],\n",
        "    'Exaustão': ['Válvula de escape danificada', 'Catalisador entupido', 'Escape vazando', 'Barulho no sistema de escape', 'Fumaça excessiva'],\n",
        "    'Pneus': ['Pneu furado', 'Desgaste irregular dos pneus', 'Calibragem incorreta', 'Pneu desbalanceado', 'Rachaduras no pneu'],\n",
        "    'Sistema de Arrefecimento': ['Radiador vazando', 'Termostato com defeito', 'Mangueira do radiador rompida', 'Nível baixo de líquido de arrefecimento', 'Ventoinha não funcionando']\n",
        "}\n",
        "gravidades = ['Baixo', 'Médio', 'Alto']\n",
        "regioes_veiculo = ['Frontal', 'Traseira', 'Lateral Direita', 'Lateral Esquerda', 'Inferior', 'Superior']\n",
        "\n",
        "# Função para gerar uma descrição de problema com base na categoria\n",
        "def gerar_descricao_problema(categoria):\n",
        "    descricoes = {\n",
        "        'Motor': [\n",
        "            \"O motor está fazendo um barulho estranho e não parece estar funcionando bem.\",\n",
        "            \"O carro está esquentando demais e parece estar perdendo potência.\",\n",
        "            \"Há um cheiro de óleo queimado vindo do motor.\"\n",
        "        ],\n",
        "        'Freios': [\n",
        "            \"Os freios estão fazendo um barulho alto e não estão respondendo bem.\",\n",
        "            \"Há um cheiro de queimado quando você pisa no freio.\",\n",
        "            \"Os freios estão vibrando e não estão funcionando corretamente.\"\n",
        "        ],\n",
        "        'Suspensão': [\n",
        "            \"O carro está balançando muito e fazendo barulho ao passar por buracos.\",\n",
        "            \"A suspensão parece estar mais dura do que o normal e o carro está desconfortável.\",\n",
        "            \"Há um som de batida quando você dirige em estrada irregular.\"\n",
        "        ],\n",
        "        'Elétrica': [\n",
        "            \"As luzes do carro estão piscando e há dificuldade para ligar o veículo.\",\n",
        "            \"O carro está apresentando falhas elétricas e o rádio está desligando sozinho.\",\n",
        "            \"O sistema elétrico está falhando e a bateria parece não carregar corretamente.\"\n",
        "        ],\n",
        "        'Transmissão': [\n",
        "            \"A transmissão está trocando de marcha de forma brusca e com dificuldade.\",\n",
        "            \"Há um barulho estranho ao mudar as marchas e o carro não está acelerando bem.\",\n",
        "            \"A embreagem parece estar deslizando e a transmissão não está suave.\"\n",
        "        ],\n",
        "        'Exaustão': [\n",
        "            \"O carro está soltando fumaça e há um barulho incomum no sistema de escape.\",\n",
        "            \"O sistema de exaustão está fazendo um barulho alto e há um cheiro estranho.\",\n",
        "            \"O escape está vazando e parece estar obstruído.\"\n",
        "        ],\n",
        "        'Pneus': [\n",
        "            \"O carro está tremendo e os pneus parecem estar desgastados.\",\n",
        "            \"Há um barulho de vibração vindo dos pneus e eles parecem estar mal calibrados.\",\n",
        "            \"Os pneus estão com rachaduras e precisam ser trocados.\"\n",
        "        ],\n",
        "        'Sistema de Arrefecimento': [\n",
        "            \"O motor está superaquecendo e parece que há um vazamento no radiador.\",\n",
        "            \"O sistema de arrefecimento não está funcionando e há um cheiro de líquido quente.\",\n",
        "            \"A ventoinha do radiador não está ligando e o carro está aquecendo demais.\"\n",
        "        ]\n",
        "    }\n",
        "    return random.choice(descricoes.get(categoria, [\"O carro está com um problema, mas não sei exatamente o que é.\"]))\n",
        "\n",
        "# Função para gerar uma linha do dataset\n",
        "def gerar_linha(id):\n",
        "    categoria = random.choice(categorias)\n",
        "    causa = random.choice(causas[categoria])\n",
        "    gravidade = random.choice(gravidades)\n",
        "    custo_estimado = round(random.uniform(200, 5000), 2)  # Gerar custo entre R$200 e R$5000\n",
        "    tempo_reparo = round(random.uniform(1, 12), 1)  # Tempo de reparo entre 1h e 12h\n",
        "    regiao = random.choice(regioes_veiculo)\n",
        "    descricao_problema = gerar_descricao_problema(categoria)\n",
        "\n",
        "    return [id, descricao_problema, categoria, causa, gravidade, custo_estimado, tempo_reparo, regiao]\n",
        "\n",
        "# Gerando o dataset com 100 exemplos\n",
        "dataset = [gerar_linha(i) for i in range(1, 101)]\n",
        "\n",
        "# Criando o dataframe\n",
        "colunas = ['ID', 'Descrição do Problema', 'Categoria', 'Possível Causa', 'Gravidade',\n",
        "           'Custo Estimado de Reparo (R$)', 'Tempo Estimado de Reparo (horas)', 'Região do Veículo']\n",
        "df = pd.DataFrame(dataset, columns=colunas)\n",
        "\n",
        "# Salvando o dataset em um arquivo CSV\n",
        "df.to_csv('dataset_problemas_mecanicos.csv', index=False)\n",
        "\n",
        "print(\"Dataset gerado e salvo como 'dataset_problemas_mecanicos.csv'.\")\n"
      ]
    }
  ],
  "metadata": {
    "colab": {
      "provenance": []
    },
    "kernelspec": {
      "display_name": "Python 3",
      "name": "python3"
    },
    "language_info": {
      "name": "python"
    }
  },
  "nbformat": 4,
  "nbformat_minor": 0
}
